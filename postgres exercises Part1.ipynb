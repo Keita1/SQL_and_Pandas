{
 "cells": [
  {
   "cell_type": "code",
   "execution_count": null,
   "metadata": {
    "collapsed": true
   },
   "outputs": [],
   "source": [
    "# These exercises are from https://www.pgexercises.com/\n",
    "# Practice on these exercises using both SQL and pandas"
   ]
  },
  {
   "cell_type": "code",
   "execution_count": 4,
   "metadata": {
    "collapsed": false
   },
   "outputs": [],
   "source": [
    "import pandas as pd\n",
    "import numpy as np\n",
    "import psycopg2\n",
    "import datetime\n",
    "import time\n"
   ]
  },
  {
   "cell_type": "markdown",
   "metadata": {},
   "source": [
    "Open SQL to get tables"
   ]
  },
  {
   "cell_type": "code",
   "execution_count": 5,
   "metadata": {
    "collapsed": false
   },
   "outputs": [],
   "source": [
    "#Open Session\n",
    "\n",
    "conn = psycopg2.connect(\"dbname=exercises user=postgres\")\n",
    "cur = conn.cursor()\n"
   ]
  },
  {
   "cell_type": "code",
   "execution_count": 6,
   "metadata": {
    "collapsed": false
   },
   "outputs": [
    {
     "name": "stdout",
     "output_type": "stream",
     "text": [
      "[('facilities',), ('bookings',), ('members',)]\n"
     ]
    }
   ],
   "source": [
    "# Check the relations in the db\n",
    "\n",
    "cur.execute(\"select relname from pg_class where relkind='r' and relname !~ '^(pg_|sql_)';\")\n",
    "print cur.fetchall()"
   ]
  },
  {
   "cell_type": "code",
   "execution_count": 7,
   "metadata": {
    "collapsed": false
   },
   "outputs": [
    {
     "data": {
      "text/plain": [
       "(0,\n",
       " 'Tennis Court 1',\n",
       " Decimal('5'),\n",
       " Decimal('25'),\n",
       " Decimal('10000'),\n",
       " Decimal('200'))"
      ]
     },
     "execution_count": 7,
     "metadata": {},
     "output_type": "execute_result"
    }
   ],
   "source": [
    "# Test Query\n",
    "\n",
    "query = '''SELECT * FROM cd.facilities;'''\n",
    "cur.execute(query)\n",
    "cur.fetchone()"
   ]
  },
  {
   "cell_type": "code",
   "execution_count": 11,
   "metadata": {
    "collapsed": false
   },
   "outputs": [],
   "source": [
    "# Read Tables into Pandas\n",
    "\n",
    "qry = 'Select * from cd.members;'\n",
    "members_df = pd.read_sql(qry, conn)\n",
    "\n",
    "qry = 'Select * from cd.facilities;'\n",
    "facilities_df = pd.read_sql(qry, conn)\n",
    "\n",
    "qry = 'Select * from cd.bookings;'\n",
    "bookings_db = pd.read_sql(qry, conn)\n"
   ]
  },
  {
   "cell_type": "code",
   "execution_count": 12,
   "metadata": {
    "collapsed": false
   },
   "outputs": [
    {
     "name": "stdout",
     "output_type": "stream",
     "text": [
      "<class 'pandas.core.frame.DataFrame'>\n",
      "RangeIndex: 9 entries, 0 to 8\n",
      "Data columns (total 6 columns):\n",
      "facid                 9 non-null int64\n",
      "name                  9 non-null object\n",
      "membercost            9 non-null float64\n",
      "guestcost             9 non-null float64\n",
      "initialoutlay         9 non-null float64\n",
      "monthlymaintenance    9 non-null float64\n",
      "dtypes: float64(4), int64(1), object(1)\n",
      "memory usage: 504.0+ bytes\n"
     ]
    }
   ],
   "source": [
    "facilities_df.info()"
   ]
  },
  {
   "cell_type": "code",
   "execution_count": 10,
   "metadata": {
    "collapsed": false
   },
   "outputs": [],
   "source": [
    "conn.rollback()"
   ]
  },
  {
   "cell_type": "code",
   "execution_count": null,
   "metadata": {
    "collapsed": false
   },
   "outputs": [],
   "source": [
    "conn.close()"
   ]
  },
  {
   "cell_type": "markdown",
   "metadata": {},
   "source": [
    "Time for Pandas Fun!!!!"
   ]
  },
  {
   "cell_type": "code",
   "execution_count": null,
   "metadata": {
    "collapsed": false
   },
   "outputs": [],
   "source": [
    "# BASICS - Exercise #1: How can you retrieve all the information from the cd.facilities table?\n",
    "\n",
    "facilities_df\n",
    "\n",
    "# SQL Version:   \n",
    "# SELECT * FROM cd.facilities;"
   ]
  },
  {
   "cell_type": "code",
   "execution_count": null,
   "metadata": {
    "collapsed": false
   },
   "outputs": [],
   "source": [
    "# BASICS - Exercise #2: You want to print out a list of all of the facilities and their cost to members. \n",
    "#                       How would you retrieve a list of only facility names and costs?\n",
    "\n",
    "\n",
    "facilities_df[['name', 'membercost']] #.to_string(index=False)\n",
    "\n",
    "# SQL Version:   \n",
    "# SELECT facilities.name, facilities.membercost FROM cd.facilities;"
   ]
  },
  {
   "cell_type": "code",
   "execution_count": null,
   "metadata": {
    "collapsed": false
   },
   "outputs": [],
   "source": [
    "# BASICS - Exercise #3:  How can you produce a list of facilities that charge a fee to members?\n",
    "\n",
    "facilities_df[facilities_df['membercost'] > 0]\n",
    "\n",
    "# SQL Version:   \n",
    "# SELECT * FROM cd.facilities\n",
    "# WHERE membercost > 0;"
   ]
  },
  {
   "cell_type": "code",
   "execution_count": null,
   "metadata": {
    "collapsed": false
   },
   "outputs": [],
   "source": [
    "# BASICS - Exercise #4: How can you produce a list of facilities that charge a fee to members, \n",
    "#                       and that fee is less than 1/50th of the monthly maintenance cost? \n",
    "#                       Return the facid, facility name, member cost, and monthly maintenance \n",
    "#                       of the facilities in question.\n",
    "\n",
    "\n",
    "facilities_df[(facilities_df['membercost'] > 0) & (facilities_df['membercost'] < facilities_df['monthlymaintenance']/50)]\\\n",
    "[['facid', 'name', 'membercost', 'monthlymaintenance']]\n",
    "\n",
    "# SQL Version:   \n",
    "# SELECT facid, name, membercost, monthlymaintenance \n",
    "#         FROM cd.facilities\n",
    "#         WHERE membercost > 0 AND \n",
    "#               membercost < monthlymaintenance/50;"
   ]
  },
  {
   "cell_type": "code",
   "execution_count": null,
   "metadata": {
    "collapsed": false
   },
   "outputs": [],
   "source": [
    "# BASICS - Exercise #5:  How can you produce a list of all facilities with the word 'Tennis' in their name?\n",
    "\n",
    "\n",
    "# Three Pandas methods, two use apply, the other uses str.contains:\n",
    "# facilities_df[facilities_df.apply(lambda x: \"Tennis\" in x['name'], axis=1)]\n",
    "\n",
    "def find_tennis(data):\n",
    "    return \"Tennis\" in data['name']\n",
    "\n",
    "facilities_df[facilities_df.apply(find_tennis, axis=1)]\n",
    "\n",
    "# facilities_df[facilities_df['name'].str.contains('Tennis')]\n",
    "\n",
    "\n",
    "# SQL Version:   \n",
    "# SELECT * \n",
    "#      FROM cd.facilities\n",
    "#      WHERE name LIKE '%Tennis%';\n"
   ]
  },
  {
   "cell_type": "code",
   "execution_count": null,
   "metadata": {
    "collapsed": false
   },
   "outputs": [],
   "source": [
    "# BASICS - Exercise #6: How can you retrieve the details of facilities with ID 1 and 5? \n",
    "#                       Try to do it without using the OR operator.\n",
    "\n",
    "\n",
    "# Pandas slicing. So fun! the slicing format is [[firstrow:lastrow:order],[firstcolumn:lastcolumn:order]] \n",
    "\n",
    "# facilities_df.iloc[[1,5],:]  # Note: this works if the facid is the index, otherwise, use:\n",
    "\n",
    "facilities_df[facilities_df.apply(lambda x: (x['facid']==1) or (x['facid']==5), axis=1)]\n",
    "\n",
    "\n",
    "# SQL Version:   \n",
    "#    SELECT * \n",
    "#    FROM cd.facilities\n",
    "#        WHERE \n",
    "#              facid IN (1,5);\n"
   ]
  },
  {
   "cell_type": "code",
   "execution_count": null,
   "metadata": {
    "collapsed": false
   },
   "outputs": [],
   "source": [
    "# BASICS - Exercise #7: How can you produce a list of facilities, \n",
    "#                       with each labelled as 'cheap' or 'expensive' depending on if their \n",
    "#                       monthly maintenance cost is more than $100? \n",
    "#                       Return the name and monthly maintenance of the facilities in question.\n",
    "\n",
    "\n",
    "# Two different approaches; 4 different solutions\n",
    "# 3 use a(n anonymous) function and .apply\n",
    "# the other uses np.where\n",
    "# def cheap_expensive(x): \n",
    "#     if (x < 100):\n",
    "#         return \"cheap\"\n",
    "#     else: return 'expensive'\n",
    "\n",
    "# facilities_df['cost'] = facilities_df['monthlymaintenance'].apply(cheap_expensive)\n",
    "\n",
    "\n",
    "# facilities_df['cost'] = facilities_df['monthlymaintenance'].apply(lambda x: 'cheap' if x<100 else 'expensive')\n",
    "facilities_df['cost'] = facilities_df.apply(lambda x: 'cheap' if x['monthlymaintenance']<100 else 'expensive', axis=1)\n",
    "\n",
    "# facilities_df[\"cost\"] = np.where(facilities_df[\"monthlymaintenance\"] < 100, \"Cheap\", \"Expensive\")\n",
    "\n",
    "facilities_df[['name', 'cost']]\n",
    "\n",
    "\n",
    "# SQL Version: \n",
    "# SELECT facilities.name, \n",
    "# \tCASE \n",
    "#     \tWHEN facilities.monthlymaintenance > 100 THEN 'expensive'\n",
    "#         ELSE 'cheap'  \n",
    "#         END as cost\n",
    "#     FROM cd.facilities\n",
    "\n"
   ]
  },
  {
   "cell_type": "code",
   "execution_count": null,
   "metadata": {
    "collapsed": false
   },
   "outputs": [],
   "source": [
    "# BASICS - Exercise #8:  How can you produce a list of members who joined after the start of September 2012? \n",
    "#                        Return the memid, surname, firstname, and joindate of the members in question.\n",
    "\n",
    "\n",
    "members_df[members_df['joindate'] > datetime.date(2012,9,1)][['memid', 'surname', 'firstname', 'joindate']]\n",
    "\n",
    "# SQL Version: \n",
    "# SELECT members.memid, members.surname, members.firstname, members.joindate\n",
    "#         FROM cd.members       \n",
    "#         WHERE \n",
    "#             members.joindate >= '2012-09-01'"
   ]
  },
  {
   "cell_type": "code",
   "execution_count": null,
   "metadata": {
    "collapsed": false
   },
   "outputs": [],
   "source": [
    "# BASICS - Exercise #9:  How can you produce an ordered list of the first 10 surnames in the members table?\n",
    "#                        The list must not contain duplicates.\n",
    "\n",
    "\n",
    "list(members_df['surname'].sort_values().unique()[:10])\n",
    "\n",
    "\n",
    "# SQL Version: \n",
    "# # SELECT DISTINCT members.surname\n",
    "#      FROM cd.members\n",
    "#      ORDER BY  members.surname\n",
    "#      LIMIT 10;"
   ]
  },
  {
   "cell_type": "code",
   "execution_count": null,
   "metadata": {
    "collapsed": false
   },
   "outputs": [],
   "source": [
    "# BASICS - Exercise #10:  You, for some reason, want a combined list of all surnames and all facility names. \n",
    "#                         Yes, this is a contrived example :-).   Produce that list!\n",
    "\n",
    "list(members_df['surname'].unique())+list(facilities_df['name'].unique())\n",
    "\n",
    "\n",
    "# SQL Version: \n",
    "\n",
    "# SELECT DISTINCT members.surname\n",
    "# \tFROM cd.members\n",
    "\t\n",
    "# \tUNION\n",
    "\t\n",
    "# SELECT DISTINCT facilities.name\n",
    "# \tFROM cd.facilities\n"
   ]
  },
  {
   "cell_type": "code",
   "execution_count": null,
   "metadata": {
    "collapsed": false
   },
   "outputs": [],
   "source": [
    "# BASICS - Exercise #11:  You'd like to get the signup date of your last member. How can you retrieve this information?\n",
    "\n",
    "\n",
    "members_df['joindate'].max().date()\n",
    "\n",
    "# SQL Version: \n",
    "\n",
    "# SELECT MAX(members.joindate) as latest\n",
    "# \tFROM cd.members;"
   ]
  },
  {
   "cell_type": "code",
   "execution_count": null,
   "metadata": {
    "collapsed": false
   },
   "outputs": [],
   "source": [
    "# BASICS - Exercise #12:   You'd like to get the first and last name of the last member(s) who signed up - \n",
    "#                          not just the date. How can you do that?\n",
    "\n",
    "members_df[members_df['joindate']==members_df['joindate'].max()][['firstname', 'surname', 'joindate']]\n",
    "\n",
    "\n",
    "# SQL Version: \n",
    "# select firstname, surname, joindate\n",
    "# \tfrom cd.members\n",
    "# \twhere joindate = \n",
    "# \t\t(select max(joindate) \n",
    "# \t\t\tfrom cd.members);          \n",
    "        \n",
    "#         or\n",
    "        \n",
    "# SELECT members.firstname, members.surname, members.joindate\n",
    "# \tFROM cd.members\n",
    "\t\n",
    "# \tORDER BY members.joindate DESC\n",
    "# \tLIMIT 1;"
   ]
  },
  {
   "cell_type": "code",
   "execution_count": null,
   "metadata": {
    "collapsed": false
   },
   "outputs": [],
   "source": [
    "# Joins and Subqueries  - Exercise #1:   How can you produce a list of the start times for\n",
    "#                                        bookings by members named 'David Farrell'?\n",
    "\n",
    "bookings_db[bookings_db['memid'] == int(members_df[(members_df['firstname']=='David') & (members_df['surname']=='Farrell')]['memid'])]['starttime']\n",
    "\n",
    "\n",
    "# SQL \n",
    "# Two ways to approach this: using a subquery or by using an inner join\n",
    "\n",
    "# SELECT bookings.starttime\n",
    "# \tFROM cd.bookings\n",
    "\t\n",
    "# \tWHERE bookings.memid = \n",
    "# \t\t\t\t(SELECT members.memid FROM cd.members \n",
    "# \t\t\t\t\tWHERE \n",
    "# \t\t\t\t\t\tmembers.firstname = 'David' AND \n",
    "# \t\t\t\t\t\tmembers.surname = 'Farrell');\n",
    "        \n",
    "        \n",
    "# select bks.starttime \n",
    "# \tfrom \n",
    "# \t\tcd.bookings bks\n",
    "# \t\tinner join cd.members mems\n",
    "# \t\t\ton mems.memid = bks.memid\n",
    "# \twhere \n",
    "# \t\tmems.firstname='David' \n",
    "# \t\tand mems.surname='Farrell';  \n",
    "\n",
    "\n",
    "# A second way to do the inner join\n",
    "# \n",
    "# select bks.starttime\n",
    "#         from\n",
    "#                 cd.bookings bks,\n",
    "#                 cd.members mems\n",
    "#         where\n",
    "#                 mems.firstname='David'\n",
    "#                 and mems.surname='Farrell'\n",
    "#                 and mems.memid = bks.memid;"
   ]
  },
  {
   "cell_type": "code",
   "execution_count": null,
   "metadata": {
    "collapsed": false
   },
   "outputs": [],
   "source": [
    "# Joins and Subqueries  - Exercise #2:  How can you produce a list of the start times for bookings for tennis \n",
    "#                                       courts, for the date '2012-09-21'? Return a list of start time and \n",
    "#                                       facility name pairings, ordered by the time.\n",
    "\n",
    "# # In Pandas, I can think of three approaches:\n",
    "# 1) WON'T WORK -- Create the needed columns separately, then concatenate them THE COLUMNS WOULD HAVE TO BE JOINED\n",
    "# 2) Use a function to map the facility name onto the booking df, then filter the bookings DF\n",
    "# 3) Create an inner join, then filter against that\n",
    "\n",
    "\n",
    "# # Method 2\n",
    "bookings_db['name1'] = bookings_db['facid'].map( lambda x: facilities_df[facilities_df['facid'] == x]['name'].to_string(index=False))\n",
    "bookings_db[ ( bookings_db['starttime'] >= datetime.date(2012, 9, 21))  &\\\n",
    "             ( bookings_db['starttime'] < datetime.date(2012, 9, 22) ) &\\\n",
    "           bookings_db['name1'].str.contains(\"Tennis C\")][['starttime', 'name1']].sort_values('starttime')\n",
    "\n",
    "# Method 3 \n",
    "\n",
    "# merged = pd.merge(bookings_db, facilities_df, on='facid')\n",
    "# merged[(merged['starttime'] >= datetime.date(2012,9,21)) & (merged['starttime'] < datetime.date(2012,9,22)) \\\n",
    "#       ][['starttime', 'name']][merged['name'].str.contains(\"Tennis C\")].sort_values('starttime')\n",
    "\n",
    "\n",
    "# SQL \n",
    "# \n",
    "# SELECT bks.starttime as start, fcs.name as name\n",
    "# \tFROM \n",
    "# \t\tcd.bookings bks INNER JOIN cd.facilities fcs\n",
    "# \t\tON bks.facid = fcs.facid\n",
    "# \tWHERE bks.starttime >= '2012-09-21' AND bks.starttime < '2012-09-22'\n",
    "# \tAND fcs.name LIKE '%Tennis Court%'\n",
    "\t\n",
    "#   ORDER BY bks.starttime;"
   ]
  },
  {
   "cell_type": "code",
   "execution_count": null,
   "metadata": {
    "collapsed": false
   },
   "outputs": [],
   "source": [
    "# Joins and Subqueries  - Exercise #2:   How can you output a list of all members who have recommended\n",
    "#                                        another member? Ensure that there are no duplicates in the list, \n",
    "#                                        and that results are ordered by (surname, firstname).\n",
    "\n",
    "members_df[['surname', 'firstname']][members_df['memid'].isin(list(members_df['recommendedby'])) ].sort_values(['surname', 'firstname'])\n",
    "\n",
    "\n",
    "# SQL\n",
    "\n",
    "# SELECT DISTINCT mb2.surname, mb2.firstname\n",
    "# \tFROM \n",
    "#     \tcd.members mb1 INNER JOIN cd.members mb2\n",
    "#         ON mb2.memid = mb1.recommendedby\n",
    "#     ORDER BY mb2.surname, mb2.firstname;"
   ]
  },
  {
   "cell_type": "code",
   "execution_count": 22,
   "metadata": {
    "collapsed": false
   },
   "outputs": [
    {
     "data": {
      "text/html": [
       "<div>\n",
       "<table border=\"1\" class=\"dataframe\">\n",
       "  <thead>\n",
       "    <tr style=\"text-align: right;\">\n",
       "      <th></th>\n",
       "      <th>firstname_x</th>\n",
       "      <th>surname_x</th>\n",
       "      <th>firstname_y</th>\n",
       "      <th>surname_y</th>\n",
       "    </tr>\n",
       "  </thead>\n",
       "  <tbody>\n",
       "    <tr>\n",
       "      <th>0</th>\n",
       "      <td>GUEST</td>\n",
       "      <td>GUEST</td>\n",
       "      <td>NaN</td>\n",
       "      <td>NaN</td>\n",
       "    </tr>\n",
       "    <tr>\n",
       "      <th>1</th>\n",
       "      <td>Darren</td>\n",
       "      <td>Smith</td>\n",
       "      <td>NaN</td>\n",
       "      <td>NaN</td>\n",
       "    </tr>\n",
       "    <tr>\n",
       "      <th>2</th>\n",
       "      <td>Tracy</td>\n",
       "      <td>Smith</td>\n",
       "      <td>NaN</td>\n",
       "      <td>NaN</td>\n",
       "    </tr>\n",
       "    <tr>\n",
       "      <th>3</th>\n",
       "      <td>Tim</td>\n",
       "      <td>Rownam</td>\n",
       "      <td>NaN</td>\n",
       "      <td>NaN</td>\n",
       "    </tr>\n",
       "    <tr>\n",
       "      <th>4</th>\n",
       "      <td>Janice</td>\n",
       "      <td>Joplette</td>\n",
       "      <td>Darren</td>\n",
       "      <td>Smith</td>\n",
       "    </tr>\n",
       "    <tr>\n",
       "      <th>5</th>\n",
       "      <td>Gerald</td>\n",
       "      <td>Butters</td>\n",
       "      <td>Darren</td>\n",
       "      <td>Smith</td>\n",
       "    </tr>\n",
       "    <tr>\n",
       "      <th>6</th>\n",
       "      <td>Burton</td>\n",
       "      <td>Tracy</td>\n",
       "      <td>NaN</td>\n",
       "      <td>NaN</td>\n",
       "    </tr>\n",
       "    <tr>\n",
       "      <th>7</th>\n",
       "      <td>Nancy</td>\n",
       "      <td>Dare</td>\n",
       "      <td>Janice</td>\n",
       "      <td>Joplette</td>\n",
       "    </tr>\n",
       "    <tr>\n",
       "      <th>8</th>\n",
       "      <td>Tim</td>\n",
       "      <td>Boothe</td>\n",
       "      <td>Tim</td>\n",
       "      <td>Rownam</td>\n",
       "    </tr>\n",
       "    <tr>\n",
       "      <th>9</th>\n",
       "      <td>Ponder</td>\n",
       "      <td>Stibbons</td>\n",
       "      <td>Burton</td>\n",
       "      <td>Tracy</td>\n",
       "    </tr>\n",
       "    <tr>\n",
       "      <th>10</th>\n",
       "      <td>Charles</td>\n",
       "      <td>Owen</td>\n",
       "      <td>Darren</td>\n",
       "      <td>Smith</td>\n",
       "    </tr>\n",
       "    <tr>\n",
       "      <th>11</th>\n",
       "      <td>David</td>\n",
       "      <td>Jones</td>\n",
       "      <td>Janice</td>\n",
       "      <td>Joplette</td>\n",
       "    </tr>\n",
       "    <tr>\n",
       "      <th>12</th>\n",
       "      <td>Anne</td>\n",
       "      <td>Baker</td>\n",
       "      <td>Ponder</td>\n",
       "      <td>Stibbons</td>\n",
       "    </tr>\n",
       "    <tr>\n",
       "      <th>13</th>\n",
       "      <td>Jemima</td>\n",
       "      <td>Farrell</td>\n",
       "      <td>NaN</td>\n",
       "      <td>NaN</td>\n",
       "    </tr>\n",
       "    <tr>\n",
       "      <th>14</th>\n",
       "      <td>Jack</td>\n",
       "      <td>Smith</td>\n",
       "      <td>Darren</td>\n",
       "      <td>Smith</td>\n",
       "    </tr>\n",
       "    <tr>\n",
       "      <th>15</th>\n",
       "      <td>Florence</td>\n",
       "      <td>Bader</td>\n",
       "      <td>Ponder</td>\n",
       "      <td>Stibbons</td>\n",
       "    </tr>\n",
       "    <tr>\n",
       "      <th>16</th>\n",
       "      <td>Timothy</td>\n",
       "      <td>Baker</td>\n",
       "      <td>Jemima</td>\n",
       "      <td>Farrell</td>\n",
       "    </tr>\n",
       "    <tr>\n",
       "      <th>17</th>\n",
       "      <td>David</td>\n",
       "      <td>Pinker</td>\n",
       "      <td>Jemima</td>\n",
       "      <td>Farrell</td>\n",
       "    </tr>\n",
       "    <tr>\n",
       "      <th>18</th>\n",
       "      <td>Matthew</td>\n",
       "      <td>Genting</td>\n",
       "      <td>Gerald</td>\n",
       "      <td>Butters</td>\n",
       "    </tr>\n",
       "    <tr>\n",
       "      <th>19</th>\n",
       "      <td>Anna</td>\n",
       "      <td>Mackenzie</td>\n",
       "      <td>Darren</td>\n",
       "      <td>Smith</td>\n",
       "    </tr>\n",
       "    <tr>\n",
       "      <th>20</th>\n",
       "      <td>Joan</td>\n",
       "      <td>Coplin</td>\n",
       "      <td>Timothy</td>\n",
       "      <td>Baker</td>\n",
       "    </tr>\n",
       "    <tr>\n",
       "      <th>21</th>\n",
       "      <td>Ramnaresh</td>\n",
       "      <td>Sarwin</td>\n",
       "      <td>Florence</td>\n",
       "      <td>Bader</td>\n",
       "    </tr>\n",
       "    <tr>\n",
       "      <th>22</th>\n",
       "      <td>Douglas</td>\n",
       "      <td>Jones</td>\n",
       "      <td>David</td>\n",
       "      <td>Jones</td>\n",
       "    </tr>\n",
       "    <tr>\n",
       "      <th>23</th>\n",
       "      <td>Henrietta</td>\n",
       "      <td>Rumney</td>\n",
       "      <td>Matthew</td>\n",
       "      <td>Genting</td>\n",
       "    </tr>\n",
       "    <tr>\n",
       "      <th>24</th>\n",
       "      <td>David</td>\n",
       "      <td>Farrell</td>\n",
       "      <td>NaN</td>\n",
       "      <td>NaN</td>\n",
       "    </tr>\n",
       "    <tr>\n",
       "      <th>25</th>\n",
       "      <td>Henry</td>\n",
       "      <td>Worthington-Smyth</td>\n",
       "      <td>Tracy</td>\n",
       "      <td>Smith</td>\n",
       "    </tr>\n",
       "    <tr>\n",
       "      <th>26</th>\n",
       "      <td>Millicent</td>\n",
       "      <td>Purview</td>\n",
       "      <td>Tracy</td>\n",
       "      <td>Smith</td>\n",
       "    </tr>\n",
       "    <tr>\n",
       "      <th>27</th>\n",
       "      <td>Hyacinth</td>\n",
       "      <td>Tupperware</td>\n",
       "      <td>NaN</td>\n",
       "      <td>NaN</td>\n",
       "    </tr>\n",
       "    <tr>\n",
       "      <th>28</th>\n",
       "      <td>John</td>\n",
       "      <td>Hunt</td>\n",
       "      <td>Millicent</td>\n",
       "      <td>Purview</td>\n",
       "    </tr>\n",
       "    <tr>\n",
       "      <th>29</th>\n",
       "      <td>Erica</td>\n",
       "      <td>Crumpet</td>\n",
       "      <td>Tracy</td>\n",
       "      <td>Smith</td>\n",
       "    </tr>\n",
       "    <tr>\n",
       "      <th>30</th>\n",
       "      <td>Darren</td>\n",
       "      <td>Smith</td>\n",
       "      <td>NaN</td>\n",
       "      <td>NaN</td>\n",
       "    </tr>\n",
       "  </tbody>\n",
       "</table>\n",
       "</div>"
      ],
      "text/plain": [
       "   firstname_x          surname_x firstname_y surname_y\n",
       "0        GUEST              GUEST         NaN       NaN\n",
       "1       Darren              Smith         NaN       NaN\n",
       "2        Tracy              Smith         NaN       NaN\n",
       "3          Tim             Rownam         NaN       NaN\n",
       "4       Janice           Joplette      Darren     Smith\n",
       "5       Gerald            Butters      Darren     Smith\n",
       "6       Burton              Tracy         NaN       NaN\n",
       "7        Nancy               Dare      Janice  Joplette\n",
       "8          Tim             Boothe         Tim    Rownam\n",
       "9       Ponder           Stibbons      Burton     Tracy\n",
       "10     Charles               Owen      Darren     Smith\n",
       "11       David              Jones      Janice  Joplette\n",
       "12        Anne              Baker      Ponder  Stibbons\n",
       "13      Jemima            Farrell         NaN       NaN\n",
       "14        Jack              Smith      Darren     Smith\n",
       "15    Florence              Bader      Ponder  Stibbons\n",
       "16     Timothy              Baker      Jemima   Farrell\n",
       "17       David             Pinker      Jemima   Farrell\n",
       "18     Matthew            Genting      Gerald   Butters\n",
       "19        Anna          Mackenzie      Darren     Smith\n",
       "20        Joan             Coplin     Timothy     Baker\n",
       "21   Ramnaresh             Sarwin    Florence     Bader\n",
       "22     Douglas              Jones       David     Jones\n",
       "23   Henrietta             Rumney     Matthew   Genting\n",
       "24       David            Farrell         NaN       NaN\n",
       "25       Henry  Worthington-Smyth       Tracy     Smith\n",
       "26   Millicent            Purview       Tracy     Smith\n",
       "27    Hyacinth         Tupperware         NaN       NaN\n",
       "28        John               Hunt   Millicent   Purview\n",
       "29       Erica            Crumpet       Tracy     Smith\n",
       "30      Darren              Smith         NaN       NaN"
      ]
     },
     "execution_count": 22,
     "metadata": {},
     "output_type": "execute_result"
    }
   ],
   "source": [
    "# Joins and Subqueries  - Exercise #4: How can you output a list of all members, including the individual \n",
    "#                         who recommended them (if any)? \n",
    "#                         Ensure that results are ordered by (surname, firstname).\n",
    "\n",
    "pd.merge(members_df, members_df, how='left', right_on='memid', left_on='recommendedby')[['firstname_x', 'surname_x', 'firstname_y', 'surname_y']]\n",
    "\n",
    "\n",
    "# SQL\n",
    "\n",
    "# SELECT mb1.firstname as memfname, mb1.surname as memsname, mb2.firstname as recfname, mb2.surname as recsname\n",
    "# \tFROM \n",
    "#      \tcd.members mb1 LEFT OUTER JOIN cd.members mb2\n",
    "#          ON mb2.memid = mb1.recommendedby\n",
    "#      ORDER BY mb1.surname, mb1.firstname;"
   ]
  },
  {
   "cell_type": "code",
   "execution_count": 25,
   "metadata": {
    "collapsed": false
   },
   "outputs": [
    {
     "data": {
      "text/plain": [
       "0                 GUEST GUEST\n",
       "1                Darren Smith\n",
       "2                 Tracy Smith\n",
       "3                  Tim Rownam\n",
       "4             Janice Joplette\n",
       "5              Gerald Butters\n",
       "6                Burton Tracy\n",
       "7                  Nancy Dare\n",
       "8                  Tim Boothe\n",
       "9             Ponder Stibbons\n",
       "10               Charles Owen\n",
       "11                David Jones\n",
       "12                 Anne Baker\n",
       "13             Jemima Farrell\n",
       "14                 Jack Smith\n",
       "15             Florence Bader\n",
       "16              Timothy Baker\n",
       "17               David Pinker\n",
       "18            Matthew Genting\n",
       "19             Anna Mackenzie\n",
       "20                Joan Coplin\n",
       "21           Ramnaresh Sarwin\n",
       "22              Douglas Jones\n",
       "23           Henrietta Rumney\n",
       "24              David Farrell\n",
       "25    Henry Worthington-Smyth\n",
       "26          Millicent Purview\n",
       "27        Hyacinth Tupperware\n",
       "28                  John Hunt\n",
       "29              Erica Crumpet\n",
       "30               Darren Smith\n",
       "Name: combined_name, dtype: object"
      ]
     },
     "execution_count": 25,
     "metadata": {},
     "output_type": "execute_result"
    }
   ],
   "source": [
    "members_df['combined_name'] = members_df['firstname']+' ' +members_df['surname']\n",
    "members_df['combined_name']"
   ]
  },
  {
   "cell_type": "code",
   "execution_count": 93,
   "metadata": {
    "collapsed": false
   },
   "outputs": [
    {
     "data": {
      "text/plain": [
       "datetime.date(2012, 7, 3)"
      ]
     },
     "execution_count": 93,
     "metadata": {},
     "output_type": "execute_result"
    }
   ],
   "source": [
    "merge2['starttime'][0].date()"
   ]
  },
  {
   "cell_type": "code",
   "execution_count": 38,
   "metadata": {
    "collapsed": false
   },
   "outputs": [
    {
     "data": {
      "text/plain": [
       "array(['Anne Baker', 'Burton Tracy', 'Charles Owen', 'Darren Smith',\n",
       "       'David Farrell', 'David Jones', 'David Pinker', 'Douglas Jones',\n",
       "       'Erica Crumpet', 'Florence Bader', 'GUEST GUEST', 'Gerald Butters',\n",
       "       'Henrietta Rumney', 'Jack Smith', 'Janice Joplette',\n",
       "       'Jemima Farrell', 'Joan Coplin', 'John Hunt', 'Matthew Genting',\n",
       "       'Millicent Purview', 'Nancy Dare', 'Ponder Stibbons',\n",
       "       'Ramnaresh Sarwin', 'Tim Boothe', 'Tim Rownam', 'Timothy Baker',\n",
       "       'Tracy Smith'], dtype=object)"
      ]
     },
     "execution_count": 38,
     "metadata": {},
     "output_type": "execute_result"
    }
   ],
   "source": [
    "# Joins and Subqueries  - Exercise #5:  How can you produce a list of all members who have used a tennis court? \n",
    "#                                       Include in your output the name of the court, and the name of the\n",
    "#                                       member formatted as a single column. \n",
    "#                                       Ensure no duplicate data, and order by the member name.\n",
    "\n",
    "merge1 = pd.merge(members_df,bookings_db, on= 'memid')\n",
    "merge2 = pd.merge(merge1, facilities_df, on='facid')\n",
    "np.sort(merge2[merge2['name'].str.contains('Tennis C')]['combined_name'].unique())\n",
    "\n",
    "\n",
    "# SQL\n",
    "\n",
    "# SELECT DISTINCT CONCAT(m.firstname, ' ',m.surname) as member, f.name as facility\n",
    "# \tFROM \n",
    "#     \tcd.members m INNER JOIN cd.bookings b\n",
    "#         ON m.memid = b.memid\n",
    "#         INNER JOIN cd.facilities f\n",
    "#         ON f.facid = b.facid\n",
    "        \n",
    "#         WHERE f.name LIKE 'Tennis C%'\n",
    "        \n",
    "#         ORDER BY member;"
   ]
  },
  {
   "cell_type": "code",
   "execution_count": 125,
   "metadata": {
    "collapsed": false
   },
   "outputs": [
    {
     "data": {
      "text/html": [
       "<div>\n",
       "<table border=\"1\" class=\"dataframe\">\n",
       "  <thead>\n",
       "    <tr style=\"text-align: right;\">\n",
       "      <th></th>\n",
       "      <th>facility</th>\n",
       "      <th>name</th>\n",
       "      <th>cost</th>\n",
       "    </tr>\n",
       "  </thead>\n",
       "  <tbody>\n",
       "    <tr>\n",
       "      <th>2750</th>\n",
       "      <td>Massage Room 2</td>\n",
       "      <td>GUEST GUEST</td>\n",
       "      <td>320.0</td>\n",
       "    </tr>\n",
       "    <tr>\n",
       "      <th>594</th>\n",
       "      <td>Massage Room 1</td>\n",
       "      <td>GUEST GUEST</td>\n",
       "      <td>160.0</td>\n",
       "    </tr>\n",
       "    <tr>\n",
       "      <th>595</th>\n",
       "      <td>Massage Room 1</td>\n",
       "      <td>GUEST GUEST</td>\n",
       "      <td>160.0</td>\n",
       "    </tr>\n",
       "    <tr>\n",
       "      <th>596</th>\n",
       "      <td>Massage Room 1</td>\n",
       "      <td>GUEST GUEST</td>\n",
       "      <td>160.0</td>\n",
       "    </tr>\n",
       "    <tr>\n",
       "      <th>1157</th>\n",
       "      <td>Tennis Court 2</td>\n",
       "      <td>GUEST GUEST</td>\n",
       "      <td>150.0</td>\n",
       "    </tr>\n",
       "    <tr>\n",
       "      <th>963</th>\n",
       "      <td>Massage Room 1</td>\n",
       "      <td>Jemima Farrell</td>\n",
       "      <td>140.0</td>\n",
       "    </tr>\n",
       "    <tr>\n",
       "      <th>1535</th>\n",
       "      <td>Tennis Court 1</td>\n",
       "      <td>GUEST GUEST</td>\n",
       "      <td>75.0</td>\n",
       "    </tr>\n",
       "    <tr>\n",
       "      <th>1534</th>\n",
       "      <td>Tennis Court 1</td>\n",
       "      <td>GUEST GUEST</td>\n",
       "      <td>75.0</td>\n",
       "    </tr>\n",
       "    <tr>\n",
       "      <th>1156</th>\n",
       "      <td>Tennis Court 2</td>\n",
       "      <td>GUEST GUEST</td>\n",
       "      <td>75.0</td>\n",
       "    </tr>\n",
       "    <tr>\n",
       "      <th>1038</th>\n",
       "      <td>Massage Room 1</td>\n",
       "      <td>Matthew Genting</td>\n",
       "      <td>70.0</td>\n",
       "    </tr>\n",
       "    <tr>\n",
       "      <th>181</th>\n",
       "      <td>Squash Court</td>\n",
       "      <td>GUEST GUEST</td>\n",
       "      <td>70.0</td>\n",
       "    </tr>\n",
       "    <tr>\n",
       "      <th>988</th>\n",
       "      <td>Massage Room 1</td>\n",
       "      <td>Jack Smith</td>\n",
       "      <td>70.0</td>\n",
       "    </tr>\n",
       "    <tr>\n",
       "      <th>962</th>\n",
       "      <td>Massage Room 1</td>\n",
       "      <td>Jemima Farrell</td>\n",
       "      <td>70.0</td>\n",
       "    </tr>\n",
       "    <tr>\n",
       "      <th>908</th>\n",
       "      <td>Massage Room 1</td>\n",
       "      <td>Ponder Stibbons</td>\n",
       "      <td>70.0</td>\n",
       "    </tr>\n",
       "    <tr>\n",
       "      <th>832</th>\n",
       "      <td>Massage Room 1</td>\n",
       "      <td>Burton Tracy</td>\n",
       "      <td>70.0</td>\n",
       "    </tr>\n",
       "    <tr>\n",
       "      <th>2796</th>\n",
       "      <td>Massage Room 2</td>\n",
       "      <td>Florence Bader</td>\n",
       "      <td>70.0</td>\n",
       "    </tr>\n",
       "    <tr>\n",
       "      <th>182</th>\n",
       "      <td>Squash Court</td>\n",
       "      <td>GUEST GUEST</td>\n",
       "      <td>35.0</td>\n",
       "    </tr>\n",
       "    <tr>\n",
       "      <th>183</th>\n",
       "      <td>Squash Court</td>\n",
       "      <td>GUEST GUEST</td>\n",
       "      <td>35.0</td>\n",
       "    </tr>\n",
       "  </tbody>\n",
       "</table>\n",
       "</div>"
      ],
      "text/plain": [
       "            facility             name   cost\n",
       "2750  Massage Room 2      GUEST GUEST  320.0\n",
       "594   Massage Room 1      GUEST GUEST  160.0\n",
       "595   Massage Room 1      GUEST GUEST  160.0\n",
       "596   Massage Room 1      GUEST GUEST  160.0\n",
       "1157  Tennis Court 2      GUEST GUEST  150.0\n",
       "963   Massage Room 1   Jemima Farrell  140.0\n",
       "1535  Tennis Court 1      GUEST GUEST   75.0\n",
       "1534  Tennis Court 1      GUEST GUEST   75.0\n",
       "1156  Tennis Court 2      GUEST GUEST   75.0\n",
       "1038  Massage Room 1  Matthew Genting   70.0\n",
       "181     Squash Court      GUEST GUEST   70.0\n",
       "988   Massage Room 1       Jack Smith   70.0\n",
       "962   Massage Room 1   Jemima Farrell   70.0\n",
       "908   Massage Room 1  Ponder Stibbons   70.0\n",
       "832   Massage Room 1     Burton Tracy   70.0\n",
       "2796  Massage Room 2   Florence Bader   70.0\n",
       "182     Squash Court      GUEST GUEST   35.0\n",
       "183     Squash Court      GUEST GUEST   35.0"
      ]
     },
     "execution_count": 125,
     "metadata": {},
     "output_type": "execute_result"
    }
   ],
   "source": [
    "# Joins and Subqueries  - Exercise #6: How can you produce a list of bookings on the day of 2012-09-14 \n",
    "#                                      which will cost the member (or guest) \n",
    "#                                      more than $30? Remember that guests have different costs to members \n",
    "#                                      (the listed costs are per half-hour 'slot'), and the guest user\n",
    "#                                      is always ID 0. Include in your output the name of the facility, \n",
    "#                                      the name of the member formatted as a single column, and the cost. \n",
    "#                                      Order by descending cost, and do not use any subqueries.\n",
    "\n",
    "\n",
    "def cost(df):\n",
    "    costg = df['slots']*df['guestcost']\n",
    "    costm = df['slots']*df['membercost']\n",
    "    if 'GUEST' in df['firstname'] and costg>30 and  (df['starttime'].date()>= datetime.date(2012,9,14) ) and ( df['starttime'].date() < datetime.date(2012,9,15) ) :\n",
    "        return df['name'], df['combined_name'], costg\n",
    "    elif 'GUEST' not in df['firstname'] and costm>30 and (df['starttime'].date()>= datetime.date(2012,9,14) ) and ( df['starttime'].date() < datetime.date(2012,9,15) )  :\n",
    "        return df['name'], df['combined_name'], costm\n",
    "    else: pass\n",
    "\n",
    "cheap_expensive = merge2.apply(cost, axis=1).dropna()\n",
    "cheap_expensive.apply(pd.Series, index=[\"facility\", \"name\", \"cost\"]).sort_values(by='cost',ascending=False)\n",
    "\n",
    "# lambda x:'oop' if  x['firstname'].str.contains(\"GUEST\"), axis=1)\n",
    "# merge2['firstname'].str.contains(\"GUEST\")\n",
    "\n",
    "# SQL \n",
    "\n",
    "# SELECT CONCAT(m.firstname, ' ', m.surname) as member, f.name as facility, \n",
    "# \tCASE\n",
    "#     \tWHEN m.memid = 0 THEN b.slots*f.guestcost\n",
    "#         ELSE b.slots*f.membercost\n",
    "#     END as cost\n",
    "    \n",
    "#     FROM cd.members m INNER JOIN cd.bookings b\n",
    "#     ON m.memid = b.memid\n",
    "#     INNER JOIN cd.facilities f\n",
    "#     ON f.facid = b.facid\n",
    "    \n",
    "#     WHERE b.starttime >= '2012-09-14' AND \n",
    "#           b.starttime < '2012-09-15' AND (\n",
    "#           (m.memid != 0 AND b.slots*f.membercost > 30) OR \n",
    "#           (m.memid = 0 AND b.slots*f.guestcost > 30)\n",
    "#     )\n",
    "#     ORDER BY cost DESC;"
   ]
  },
  {
   "cell_type": "code",
   "execution_count": 129,
   "metadata": {
    "collapsed": false
   },
   "outputs": [
    {
     "data": {
      "text/html": [
       "<div>\n",
       "<table border=\"1\" class=\"dataframe\">\n",
       "  <thead>\n",
       "    <tr style=\"text-align: right;\">\n",
       "      <th></th>\n",
       "      <th>member</th>\n",
       "      <th>recommender</th>\n",
       "    </tr>\n",
       "  </thead>\n",
       "  <tbody>\n",
       "    <tr>\n",
       "      <th>4</th>\n",
       "      <td>Anna Mackenzie</td>\n",
       "      <td>Darren Smith</td>\n",
       "    </tr>\n",
       "    <tr>\n",
       "      <th>9</th>\n",
       "      <td>Anne Baker</td>\n",
       "      <td>Ponder Stibbons</td>\n",
       "    </tr>\n",
       "    <tr>\n",
       "      <th>2</th>\n",
       "      <td>Charles Owen</td>\n",
       "      <td>Darren Smith</td>\n",
       "    </tr>\n",
       "    <tr>\n",
       "      <th>6</th>\n",
       "      <td>David Jones</td>\n",
       "      <td>Janice Joplette</td>\n",
       "    </tr>\n",
       "    <tr>\n",
       "      <th>12</th>\n",
       "      <td>David Pinker</td>\n",
       "      <td>Jemima Farrell</td>\n",
       "    </tr>\n",
       "    <tr>\n",
       "      <th>16</th>\n",
       "      <td>Douglas Jones</td>\n",
       "      <td>David Jones</td>\n",
       "    </tr>\n",
       "    <tr>\n",
       "      <th>20</th>\n",
       "      <td>Erica Crumpet</td>\n",
       "      <td>Tracy Smith</td>\n",
       "    </tr>\n",
       "    <tr>\n",
       "      <th>10</th>\n",
       "      <td>Florence Bader</td>\n",
       "      <td>Ponder Stibbons</td>\n",
       "    </tr>\n",
       "    <tr>\n",
       "      <th>1</th>\n",
       "      <td>Gerald Butters</td>\n",
       "      <td>Darren Smith</td>\n",
       "    </tr>\n",
       "    <tr>\n",
       "      <th>17</th>\n",
       "      <td>Henrietta Rumney</td>\n",
       "      <td>Matthew Genting</td>\n",
       "    </tr>\n",
       "    <tr>\n",
       "      <th>18</th>\n",
       "      <td>Henry Worthington-Smyth</td>\n",
       "      <td>Tracy Smith</td>\n",
       "    </tr>\n",
       "    <tr>\n",
       "      <th>3</th>\n",
       "      <td>Jack Smith</td>\n",
       "      <td>Darren Smith</td>\n",
       "    </tr>\n",
       "    <tr>\n",
       "      <th>0</th>\n",
       "      <td>Janice Joplette</td>\n",
       "      <td>Darren Smith</td>\n",
       "    </tr>\n",
       "    <tr>\n",
       "      <th>14</th>\n",
       "      <td>Joan Coplin</td>\n",
       "      <td>Timothy Baker</td>\n",
       "    </tr>\n",
       "    <tr>\n",
       "      <th>21</th>\n",
       "      <td>John Hunt</td>\n",
       "      <td>Millicent Purview</td>\n",
       "    </tr>\n",
       "    <tr>\n",
       "      <th>13</th>\n",
       "      <td>Matthew Genting</td>\n",
       "      <td>Gerald Butters</td>\n",
       "    </tr>\n",
       "    <tr>\n",
       "      <th>19</th>\n",
       "      <td>Millicent Purview</td>\n",
       "      <td>Tracy Smith</td>\n",
       "    </tr>\n",
       "    <tr>\n",
       "      <th>5</th>\n",
       "      <td>Nancy Dare</td>\n",
       "      <td>Janice Joplette</td>\n",
       "    </tr>\n",
       "    <tr>\n",
       "      <th>8</th>\n",
       "      <td>Ponder Stibbons</td>\n",
       "      <td>Burton Tracy</td>\n",
       "    </tr>\n",
       "    <tr>\n",
       "      <th>15</th>\n",
       "      <td>Ramnaresh Sarwin</td>\n",
       "      <td>Florence Bader</td>\n",
       "    </tr>\n",
       "    <tr>\n",
       "      <th>7</th>\n",
       "      <td>Tim Boothe</td>\n",
       "      <td>Tim Rownam</td>\n",
       "    </tr>\n",
       "    <tr>\n",
       "      <th>11</th>\n",
       "      <td>Timothy Baker</td>\n",
       "      <td>Jemima Farrell</td>\n",
       "    </tr>\n",
       "  </tbody>\n",
       "</table>\n",
       "</div>"
      ],
      "text/plain": [
       "                     member        recommender\n",
       "4            Anna Mackenzie       Darren Smith\n",
       "9                Anne Baker    Ponder Stibbons\n",
       "2              Charles Owen       Darren Smith\n",
       "6               David Jones    Janice Joplette\n",
       "12             David Pinker     Jemima Farrell\n",
       "16            Douglas Jones        David Jones\n",
       "20            Erica Crumpet        Tracy Smith\n",
       "10           Florence Bader    Ponder Stibbons\n",
       "1            Gerald Butters       Darren Smith\n",
       "17         Henrietta Rumney    Matthew Genting\n",
       "18  Henry Worthington-Smyth        Tracy Smith\n",
       "3                Jack Smith       Darren Smith\n",
       "0           Janice Joplette       Darren Smith\n",
       "14              Joan Coplin      Timothy Baker\n",
       "21                John Hunt  Millicent Purview\n",
       "13          Matthew Genting     Gerald Butters\n",
       "19        Millicent Purview        Tracy Smith\n",
       "5                Nancy Dare    Janice Joplette\n",
       "8           Ponder Stibbons       Burton Tracy\n",
       "15         Ramnaresh Sarwin     Florence Bader\n",
       "7                Tim Boothe         Tim Rownam\n",
       "11            Timothy Baker     Jemima Farrell"
      ]
     },
     "execution_count": 129,
     "metadata": {},
     "output_type": "execute_result"
    }
   ],
   "source": [
    "# Joins and Subqueries  - Exercise #7:    How can you output a list of all members, including the individual\n",
    "#                                         who recommended them (if any), without using any joins? Ensure that \n",
    "#                                         there are no duplicates in the list, and that each firstname + surname \n",
    "#                                         pairing is formatted as a column and ordered.\n",
    "\n",
    "\n",
    "result1 = pd.merge(members_df,members_df,left_on='recommendedby', right_on='memid')[['combined_name_x', 'combined_name_y']].sort_values('combined_name_x')\n",
    "result1.columns = ['member', 'recommender']\n",
    "result1\n",
    "\n",
    "\n",
    "# SQL \n",
    "\n",
    "# SELECT DISTINCT CONCAT(members.firstname, ' ' , members.surname) as name,\n",
    "# \t\t(\n",
    "# \t\t  SELECT CONCAT(recs.firstname, ' ', recs.surname) as recommender\n",
    "# \t\t\t\t  FROM cd.members recs\n",
    "# \t\t  \t\t  WHERE recs.memid = members.recommendedby)\n",
    "# \t\tFROM cd.members\n",
    "# \t\tORDER BY name;"
   ]
  },
  {
   "cell_type": "code",
   "execution_count": 130,
   "metadata": {
    "collapsed": false
   },
   "outputs": [
    {
     "data": {
      "text/html": [
       "<div>\n",
       "<table border=\"1\" class=\"dataframe\">\n",
       "  <thead>\n",
       "    <tr style=\"text-align: right;\">\n",
       "      <th></th>\n",
       "      <th>facility</th>\n",
       "      <th>name</th>\n",
       "      <th>cost</th>\n",
       "    </tr>\n",
       "  </thead>\n",
       "  <tbody>\n",
       "    <tr>\n",
       "      <th>2750</th>\n",
       "      <td>Massage Room 2</td>\n",
       "      <td>GUEST GUEST</td>\n",
       "      <td>320.0</td>\n",
       "    </tr>\n",
       "    <tr>\n",
       "      <th>594</th>\n",
       "      <td>Massage Room 1</td>\n",
       "      <td>GUEST GUEST</td>\n",
       "      <td>160.0</td>\n",
       "    </tr>\n",
       "    <tr>\n",
       "      <th>595</th>\n",
       "      <td>Massage Room 1</td>\n",
       "      <td>GUEST GUEST</td>\n",
       "      <td>160.0</td>\n",
       "    </tr>\n",
       "    <tr>\n",
       "      <th>596</th>\n",
       "      <td>Massage Room 1</td>\n",
       "      <td>GUEST GUEST</td>\n",
       "      <td>160.0</td>\n",
       "    </tr>\n",
       "    <tr>\n",
       "      <th>1157</th>\n",
       "      <td>Tennis Court 2</td>\n",
       "      <td>GUEST GUEST</td>\n",
       "      <td>150.0</td>\n",
       "    </tr>\n",
       "    <tr>\n",
       "      <th>963</th>\n",
       "      <td>Massage Room 1</td>\n",
       "      <td>Jemima Farrell</td>\n",
       "      <td>140.0</td>\n",
       "    </tr>\n",
       "    <tr>\n",
       "      <th>1535</th>\n",
       "      <td>Tennis Court 1</td>\n",
       "      <td>GUEST GUEST</td>\n",
       "      <td>75.0</td>\n",
       "    </tr>\n",
       "    <tr>\n",
       "      <th>1534</th>\n",
       "      <td>Tennis Court 1</td>\n",
       "      <td>GUEST GUEST</td>\n",
       "      <td>75.0</td>\n",
       "    </tr>\n",
       "    <tr>\n",
       "      <th>1156</th>\n",
       "      <td>Tennis Court 2</td>\n",
       "      <td>GUEST GUEST</td>\n",
       "      <td>75.0</td>\n",
       "    </tr>\n",
       "    <tr>\n",
       "      <th>1038</th>\n",
       "      <td>Massage Room 1</td>\n",
       "      <td>Matthew Genting</td>\n",
       "      <td>70.0</td>\n",
       "    </tr>\n",
       "    <tr>\n",
       "      <th>181</th>\n",
       "      <td>Squash Court</td>\n",
       "      <td>GUEST GUEST</td>\n",
       "      <td>70.0</td>\n",
       "    </tr>\n",
       "    <tr>\n",
       "      <th>988</th>\n",
       "      <td>Massage Room 1</td>\n",
       "      <td>Jack Smith</td>\n",
       "      <td>70.0</td>\n",
       "    </tr>\n",
       "    <tr>\n",
       "      <th>962</th>\n",
       "      <td>Massage Room 1</td>\n",
       "      <td>Jemima Farrell</td>\n",
       "      <td>70.0</td>\n",
       "    </tr>\n",
       "    <tr>\n",
       "      <th>908</th>\n",
       "      <td>Massage Room 1</td>\n",
       "      <td>Ponder Stibbons</td>\n",
       "      <td>70.0</td>\n",
       "    </tr>\n",
       "    <tr>\n",
       "      <th>832</th>\n",
       "      <td>Massage Room 1</td>\n",
       "      <td>Burton Tracy</td>\n",
       "      <td>70.0</td>\n",
       "    </tr>\n",
       "    <tr>\n",
       "      <th>2796</th>\n",
       "      <td>Massage Room 2</td>\n",
       "      <td>Florence Bader</td>\n",
       "      <td>70.0</td>\n",
       "    </tr>\n",
       "    <tr>\n",
       "      <th>182</th>\n",
       "      <td>Squash Court</td>\n",
       "      <td>GUEST GUEST</td>\n",
       "      <td>35.0</td>\n",
       "    </tr>\n",
       "    <tr>\n",
       "      <th>183</th>\n",
       "      <td>Squash Court</td>\n",
       "      <td>GUEST GUEST</td>\n",
       "      <td>35.0</td>\n",
       "    </tr>\n",
       "  </tbody>\n",
       "</table>\n",
       "</div>"
      ],
      "text/plain": [
       "            facility             name   cost\n",
       "2750  Massage Room 2      GUEST GUEST  320.0\n",
       "594   Massage Room 1      GUEST GUEST  160.0\n",
       "595   Massage Room 1      GUEST GUEST  160.0\n",
       "596   Massage Room 1      GUEST GUEST  160.0\n",
       "1157  Tennis Court 2      GUEST GUEST  150.0\n",
       "963   Massage Room 1   Jemima Farrell  140.0\n",
       "1535  Tennis Court 1      GUEST GUEST   75.0\n",
       "1534  Tennis Court 1      GUEST GUEST   75.0\n",
       "1156  Tennis Court 2      GUEST GUEST   75.0\n",
       "1038  Massage Room 1  Matthew Genting   70.0\n",
       "181     Squash Court      GUEST GUEST   70.0\n",
       "988   Massage Room 1       Jack Smith   70.0\n",
       "962   Massage Room 1   Jemima Farrell   70.0\n",
       "908   Massage Room 1  Ponder Stibbons   70.0\n",
       "832   Massage Room 1     Burton Tracy   70.0\n",
       "2796  Massage Room 2   Florence Bader   70.0\n",
       "182     Squash Court      GUEST GUEST   35.0\n",
       "183     Squash Court      GUEST GUEST   35.0"
      ]
     },
     "execution_count": 130,
     "metadata": {},
     "output_type": "execute_result"
    }
   ],
   "source": [
    "# Joins and Subqueries  - Exercise #8: The Produce a list of costly bookings exercise contained some \n",
    "#                                      messy logic: we had to calculate the booking cost in both the \n",
    "#                                      WHERE clause and the CASE statement. Try to simplify this \n",
    "#                                      calculation using subqueries. For reference, the question was:\n",
    "#  \n",
    "#                                      How can you produce a list of bookings on the day of 2012-09-14 \n",
    "#                                      which will cost the member (or guest) more than $30? Remember \n",
    "#                                      that guests have different costs to members (the listed costs are \n",
    "#                                      per half-hour 'slot'), and the guest user is always ID 0. Include \n",
    "#                                      in your output the name of the facility, the name of the member \n",
    "#                                      formatted as a single column, and the cost. Order by descending cost.\n",
    "\n",
    "# for pandas, I just pasted the solution from above\n",
    "\n",
    "def cost(df):\n",
    "    costg = df['slots']*df['guestcost']\n",
    "    costm = df['slots']*df['membercost']\n",
    "    if 'GUEST' in df['firstname'] and costg>30 and  (df['starttime'].date()>= datetime.date(2012,9,14) ) and ( df['starttime'].date() < datetime.date(2012,9,15) ) :\n",
    "        return df['name'], df['combined_name'], costg\n",
    "    elif 'GUEST' not in df['firstname'] and costm>30 and (df['starttime'].date()>= datetime.date(2012,9,14) ) and ( df['starttime'].date() < datetime.date(2012,9,15) )  :\n",
    "        return df['name'], df['combined_name'], costm\n",
    "    else: pass\n",
    "\n",
    "cheap_expensive = merge2.apply(cost, axis=1).dropna()\n",
    "cheap_expensive.apply(pd.Series, index=[\"facility\", \"name\", \"cost\"]).sort_values(by='cost',ascending=False)\n",
    "\n",
    "\n",
    "\n",
    "# SQL\n",
    "\n",
    "# SELECT member, facility, cost\n",
    "# \tFROM (\n",
    "#         SELECT CONCAT(m.firstname, ' ' , m.surname) as member,\n",
    "#                f.name as facility,\n",
    "#         \t   CASE\n",
    "#         \t\t\tWHEN m.memid = 0 THEN f.guestcost*b.slots\n",
    "#         \t\t\tELSE f.membercost*b.slots\n",
    "#         \t   END as cost\n",
    "        \n",
    "#         FROM \n",
    "#         \t   cd.bookings b INNER JOIN cd.members m\n",
    "#         \t   ON b.memid = m.memid\n",
    "#         \t   INNER JOIN cd.facilities f\n",
    "#         \t   ON f.facid = b.facid\n",
    "        \n",
    "#         WHERE \n",
    "#                b.starttime >= '2012-09-14' AND\n",
    "#         \t   b.starttime < '2012-09-15'\n",
    "#         ) as bookings\n",
    "        \n",
    "#        WHERE \n",
    "#         \tcost > 30\n",
    "        \n",
    "#        ORDER BY cost DESC;"
   ]
  },
  {
   "cell_type": "code",
   "execution_count": null,
   "metadata": {
    "collapsed": true
   },
   "outputs": [],
   "source": []
  },
  {
   "cell_type": "code",
   "execution_count": null,
   "metadata": {
    "collapsed": false
   },
   "outputs": [],
   "source": [
    "facilities_df['name'][facilities_df['facid'] == bookings_db['facid'][4]].to_string(index=False)"
   ]
  },
  {
   "cell_type": "code",
   "execution_count": null,
   "metadata": {
    "collapsed": false
   },
   "outputs": [],
   "source": [
    "bookings_db['facid'][10]"
   ]
  },
  {
   "cell_type": "code",
   "execution_count": null,
   "metadata": {
    "collapsed": false
   },
   "outputs": [],
   "source": [
    "members_df[(members_df['firstname']=='David') & (members_df['surname']=='Farrell')]['memid']"
   ]
  },
  {
   "cell_type": "code",
   "execution_count": null,
   "metadata": {
    "collapsed": false
   },
   "outputs": [],
   "source": [
    "datetime.date(2017,9,1)"
   ]
  },
  {
   "cell_type": "code",
   "execution_count": null,
   "metadata": {
    "collapsed": false
   },
   "outputs": [],
   "source": [
    "f = lambda x: 1 if x>0 else 0 if x ==0 else -1"
   ]
  },
  {
   "cell_type": "code",
   "execution_count": null,
   "metadata": {
    "collapsed": true
   },
   "outputs": [],
   "source": [
    "facilities_df[\"cost\"] = np.where(facilities_df[\"monthlymaintenance\"] < 100, \"Cheap\", \"Expensive\")"
   ]
  },
  {
   "cell_type": "code",
   "execution_count": null,
   "metadata": {
    "collapsed": false
   },
   "outputs": [],
   "source": [
    "members_df\n"
   ]
  },
  {
   "cell_type": "code",
   "execution_count": null,
   "metadata": {
    "collapsed": false
   },
   "outputs": [],
   "source": [
    "bookings_db"
   ]
  },
  {
   "cell_type": "code",
   "execution_count": null,
   "metadata": {
    "collapsed": false
   },
   "outputs": [],
   "source": [
    "np.where([[True, False], [True, True]],[[1, 2], [3, 4]],[[9, 8], [7, 6]])"
   ]
  },
  {
   "cell_type": "code",
   "execution_count": null,
   "metadata": {
    "collapsed": false
   },
   "outputs": [],
   "source": [
    "facilities_df = facilities_df.drop('cost', axis=1)"
   ]
  },
  {
   "cell_type": "code",
   "execution_count": null,
   "metadata": {
    "collapsed": true
   },
   "outputs": [],
   "source": []
  }
 ],
 "metadata": {
  "anaconda-cloud": {},
  "kernelspec": {
   "display_name": "Python [conda root]",
   "language": "python",
   "name": "conda-root-py"
  }
 },
 "nbformat": 4,
 "nbformat_minor": 1
}
